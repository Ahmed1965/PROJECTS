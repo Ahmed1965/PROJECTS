{
  "nbformat": 4,
  "nbformat_minor": 0,
  "metadata": {
    "colab": {
      "provenance": [],
      "authorship_tag": "ABX9TyO0NHBRRX8NimW4FyIu9XO+",
      "include_colab_link": true
    },
    "kernelspec": {
      "name": "python3",
      "display_name": "Python 3"
    },
    "language_info": {
      "name": "python"
    }
  },
  "cells": [
    {
      "cell_type": "markdown",
      "metadata": {
        "id": "view-in-github",
        "colab_type": "text"
      },
      "source": [
        "<a href=\"https://colab.research.google.com/github/Ahmed1965/PROJECTS/blob/main/00_intro_python/01_add_two_numbers.ipynb\" target=\"_parent\"><img src=\"https://colab.research.google.com/assets/colab-badge.svg\" alt=\"Open In Colab\"/></a>"
      ]
    },
    {
      "cell_type": "code",
      "execution_count": 2,
      "metadata": {
        "id": "bv141gp4eVJW",
        "outputId": "ba488447-0a17-4b3a-8775-d82a7f59b16c",
        "colab": {
          "base_uri": "https://localhost:8080/"
        }
      },
      "outputs": [
        {
          "output_type": "stream",
          "name": "stdout",
          "text": [
            "Enter First Number: 2\n",
            "Enter Second Number: 4\n",
            "The sum of 2 and 4 is:  6\n"
          ]
        }
      ],
      "source": [
        "def add_two_numbers():\n",
        "  number1 = int(input(\"Enter First Number: \"))\n",
        "  number2 = int(input(\"Enter Second Number: \"))\n",
        "  sum = number1 + number2\n",
        "  print(f\"The sum of {number1} and {number2} is:  {sum}\")\n",
        "add_two_numbers()"
      ]
    },
    {
      "cell_type": "markdown",
      "source": [
        "# 02_agreement_bot\n",
        "# Problem Statement\n",
        "Write a program which asks the user what their favorite animal is, and then always responds with \"My favorite animal is also ___!\" (the blank should be filled in with the user-inputted animal, of course)."
      ],
      "metadata": {
        "id": "Ud4Vx2Y-TM4s"
      }
    },
    {
      "cell_type": "code",
      "source": [
        "def favorite_animal():\n",
        "  animal = input(\"Enter your favourite animal:  \")\n",
        "  print(f\"My favourite animal is also {animal}\")\n",
        "favorite_animal()"
      ],
      "metadata": {
        "id": "KAAq2ZUhTSaS",
        "outputId": "8cc49169-7db7-46a6-ed42-7b25e381a559",
        "colab": {
          "base_uri": "https://localhost:8080/"
        }
      },
      "execution_count": 3,
      "outputs": [
        {
          "output_type": "stream",
          "name": "stdout",
          "text": [
            "Enter your favourite animal:  Elephant\n",
            "My favourite animal is also Elephant\n"
          ]
        }
      ]
    },
    {
      "cell_type": "markdown",
      "source": [
        "# 03_fahrenheit_to_celsius\n",
        "# Problem Statement\n",
        "Write a program which prompts the user for a temperature in Fahrenheit (this can be a number with decimal places!) and outputs the temperature converted to Celsius."
      ],
      "metadata": {
        "id": "zbWF7SRTUh1w"
      }
    },
    {
      "cell_type": "code",
      "source": [
        "def convert_into_celsius():\n",
        "  fahrenheit = float(input(\"Enter temperature in Fahrenheit:  \"))\n",
        "  celsius = (fahrenheit - 32) * 5/9\n",
        "  print(f\"{fahrenheit} Fahrenheit is equal to {celsius}\\u00B0C Celsius\")\n",
        "convert_into_celsius()"
      ],
      "metadata": {
        "id": "e7bhaqjHVBX2",
        "outputId": "bfae6d52-fb0e-46aa-b53b-69210f73b316",
        "colab": {
          "base_uri": "https://localhost:8080/"
        }
      },
      "execution_count": 7,
      "outputs": [
        {
          "output_type": "stream",
          "name": "stdout",
          "text": [
            "Enter temperature in Fahrenheit:  76\n",
            "76.0 Fahrenheit is equal to 24.444444444444443°C Celsius\n"
          ]
        }
      ]
    },
    {
      "cell_type": "markdown",
      "source": [
        "# 04_how_old_are_they\n",
        "# Problem Statement\n",
        "Write a program to solve this age-related riddle!\n",
        "\n",
        "Anton, Beth, Chen, Drew, and Ethan are all friends. Their ages are as follows:\n",
        "\n",
        "Anton is 21 years old.\n",
        "Beth is 6 years older than Anton.\n",
        "Chen is 20 years older than Beth.\n",
        "Drew is as old as Chen's age plus Anton's age.\n",
        "Ethan is the same age as Chen.\n",
        "\n",
        "Your code should store each person's age to a variable and print their names and ages at the end. The autograder is sensitive to capitalization and punctuation, be careful! Your solution should look like this (the below numbers are made up -- your solution should have the correct values!):"
      ],
      "metadata": {
        "id": "A1kA0D5vWgni"
      }
    },
    {
      "cell_type": "code",
      "source": [],
      "metadata": {
        "id": "z9wD70bzW7QF"
      },
      "execution_count": null,
      "outputs": []
    }
  ]
}